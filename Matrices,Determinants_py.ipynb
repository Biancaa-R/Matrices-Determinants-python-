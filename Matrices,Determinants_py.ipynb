{
  "nbformat": 4,
  "nbformat_minor": 0,
  "metadata": {
    "colab": {
      "name": "Matrices,Determinants.py",
      "provenance": [],
      "collapsed_sections": [],
      "authorship_tag": "ABX9TyNDhM6UT1XwAjMo8LS8fSPt",
      "include_colab_link": true
    },
    "kernelspec": {
      "name": "python3",
      "display_name": "Python 3"
    },
    "language_info": {
      "name": "python"
    }
  },
  "cells": [
    {
      "cell_type": "markdown",
      "metadata": {
        "id": "view-in-github",
        "colab_type": "text"
      },
      "source": [
        "<a href=\"https://colab.research.google.com/github/Biancaa-R/Matrices-Determinats/blob/main/Matrices%2CDeterminants_py.ipynb\" target=\"_parent\"><img src=\"https://colab.research.google.com/assets/colab-badge.svg\" alt=\"Open In Colab\"/></a>"
      ]
    },
    {
      "cell_type": "markdown",
      "metadata": {
        "id": "YpuhM6CjaZfI"
      },
      "source": [
        "#matrice multiplication using numpy"
      ]
    },
    {
      "cell_type": "code",
      "metadata": {
        "colab": {
          "base_uri": "https://localhost:8080/"
        },
        "id": "9Ld7qzt6ZE2x",
        "outputId": "376eaa82-72ed-4786-caf2-8faf44d6ac81"
      },
      "source": [
        "#matrice multiplication using numpy\n",
        "#vectorised implimentation\n",
        "\n",
        "import numpy as np\n",
        "A=[[1,2,3],\n",
        "[4,5,6],\n",
        "[7,8,9]]\n",
        "\n",
        "B=[[10,11,12],\n",
        "[13,14,15],\n",
        "[16,17,18]]\n",
        "\n",
        "result=[[0,0,0],\n",
        "[0,0,0],\n",
        "[0,0,0]]\n",
        "\n",
        "result=np.dot(A,B)\n",
        "for r in result:\n",
        "  print(r)"
      ],
      "execution_count": 9,
      "outputs": [
        {
          "output_type": "stream",
          "text": [
            "[84 90 96]\n",
            "[201 216 231]\n",
            "[318 342 366]\n"
          ],
          "name": "stdout"
        }
      ]
    },
    {
      "cell_type": "markdown",
      "metadata": {
        "id": "c5BtFNkabf0J"
      },
      "source": [
        "# Matrice multiplication using nested loops"
      ]
    },
    {
      "cell_type": "code",
      "metadata": {
        "colab": {
          "base_uri": "https://localhost:8080/"
        },
        "id": "BkEa1wWjatCv",
        "outputId": "2607a968-b310-45c7-c6b1-d95c1f5b8702"
      },
      "source": [
        "#Multiplication using nested loops\n",
        "\n",
        "A=[[19,20,21],\n",
        "[22,23,24],\n",
        "[25,26,27]]\n",
        "\n",
        "B=[[28,29,30],\n",
        "[31,32,33],\n",
        "[34,35,36]]\n",
        "\n",
        "result=[[0,0,0],\n",
        "[0,0,0],\n",
        "[0,0,0]]\n",
        "\n",
        "for i in range(len(A)):\n",
        "    for j in range(len(B[0])):\n",
        "        for k in range(len(B)):\n",
        "            result[i][j] +=A[i][k]* B[k][j]\n",
        "\n",
        "for r in result:\n",
        "    print(r)\n",
        "\n",
        "\n"
      ],
      "execution_count": 10,
      "outputs": [
        {
          "output_type": "stream",
          "text": [
            "[1866, 1926, 1986]\n",
            "[2145, 2214, 2283]\n",
            "[2424, 2502, 2580]\n"
          ],
          "name": "stdout"
        }
      ]
    },
    {
      "cell_type": "markdown",
      "metadata": {
        "id": "3Y_hbi4Sg1kL"
      },
      "source": [
        "#Finding the transpose of a matrice using nested loop"
      ]
    },
    {
      "cell_type": "code",
      "metadata": {
        "colab": {
          "base_uri": "https://localhost:8080/"
        },
        "id": "6irELq8cgVSr",
        "outputId": "dffaedb1-6be2-4112-91a0-bd3ffe3f9a3c"
      },
      "source": [
        "# Program to transpose a matrix using a nested loop\n",
        "\n",
        "X = [[12,7,6],\n",
        "[4 ,5,9],\n",
        "[3 ,8,5]]\n",
        "\n",
        "result = [[0,0,0],\n",
        "[0,0,0],\n",
        "[0,0,0]]\n",
        "\n",
        "# iterate through rows\n",
        "for i in range(len(X)):\n",
        "   # iterate through columns\n",
        "   for j in range(len(X[0])):\n",
        "       result[j][i] = X[i][j]\n",
        "\n",
        "for r in result:\n",
        "   print(r)"
      ],
      "execution_count": 12,
      "outputs": [
        {
          "output_type": "stream",
          "text": [
            "[12, 4, 3]\n",
            "[7, 5, 8]\n",
            "[6, 9, 5]\n"
          ],
          "name": "stdout"
        }
      ]
    },
    {
      "cell_type": "markdown",
      "metadata": {
        "id": "o721WeDXhq4k"
      },
      "source": [
        "# Transpose with list"
      ]
    },
    {
      "cell_type": "code",
      "metadata": {
        "colab": {
          "base_uri": "https://localhost:8080/"
        },
        "id": "iqKE6Zg8hpH1",
        "outputId": "bbda966b-c411-43db-9612-5c3e7670c649"
      },
      "source": [
        "''' Program to transpose a matrix using list comprehension'''\n",
        "\n",
        "X = [[12,7],\n",
        "    [4 ,5],\n",
        "    [3 ,8]]\n",
        "\n",
        "result = [[X[j][i] for j in range(len(X))] for i in range(len(X[0]))]\n",
        "\n",
        "for r in result:\n",
        "   print(r)\n",
        "   "
      ],
      "execution_count": 16,
      "outputs": [
        {
          "output_type": "stream",
          "text": [
            "[12, 4, 3]\n",
            "[7, 5, 8]\n"
          ],
          "name": "stdout"
        }
      ]
    },
    {
      "cell_type": "markdown",
      "metadata": {
        "id": "JMHdSTxbjnw_"
      },
      "source": [
        "**explanion**:\n",
        "\n",
        "here range values of j determines the number of coloumns and the range values of i determines the number of rows.\n",
        "```\n",
        "# This is formatted as code\n",
        "result=[[X[j][i] for j in range len(X)] for i in range len(X[0])\n",
        "```\n",
        "length of X=3\n",
        "\n",
        "range(3)=0,1,2\n",
        "\n",
        "length of X[0]=2\n",
        "\n",
        "range(2)=1,2\n",
        "\n",
        "**List one ****:\n",
        "\n",
        "case1:\n",
        "\n",
        " j=0,i=0 therefore result= X[0][0]=12\n",
        "\n",
        "case2:\n",
        "\n",
        "j=1,i=0 therefore result=X[1][0]=4\n",
        "\n",
        "case3:\n",
        "\n",
        "j=2,i=0 therefore result X[2][0]=3\n",
        "\n",
        "There is no more possible iteration of j so list one over\n",
        "\n",
        "result=[12,4,3]\n",
        "\n",
        "**list 2**\n",
        "\n",
        "case1:\n",
        "\n",
        "j=0,i=1 therefore result X[0][1]=7\n",
        "\n",
        "case2:\n",
        "\n",
        "j=1,i=1 therefore result X[1][1]=5\n",
        "\n",
        "\n",
        "case3::\n",
        "j=2, i=1 therefore result X[2][1]=8\n",
        "\n",
        "no more possible iterations of j so list 2 over\n",
        "\n",
        "result=[12,4,3],\n",
        "       [7,5,8]\n",
        "\n",
        "```\n",
        "# This is formatted as code\n",
        "for r in result:\n",
        "   print(r)\n",
        "```\n",
        "This prints : \n",
        "\n",
        " [12,4,3]\n",
        "\n",
        "[7,5,8]\n",
        "\n",
        "\n",
        "\n",
        "\n",
        "\n"
      ]
    }
  ]
}